{
 "cells": [
  {
   "cell_type": "code",
   "execution_count": 14,
   "id": "fc6e5e62-47c5-43b6-ae1c-ed6451bc003e",
   "metadata": {},
   "outputs": [
    {
     "name": "stdin",
     "output_type": "stream",
     "text": [
      "Enter your name bas\n"
     ]
    },
    {
     "name": "stdout",
     "output_type": "stream",
     "text": [
      "bas\n"
     ]
    },
    {
     "name": "stdin",
     "output_type": "stream",
     "text": [
      "Enter the  daily budget in $ 12\n"
     ]
    },
    {
     "name": "stdout",
     "output_type": "stream",
     "text": [
      "12.0\n"
     ]
    },
    {
     "name": "stdin",
     "output_type": "stream",
     "text": [
      "Enter the  amount spend on food daily 4\n",
      "Enter the  amount spend on transportation daily 5\n",
      "Enter the  amount spend on other miscellenous daily 2\n"
     ]
    },
    {
     "name": "stdout",
     "output_type": "stream",
     "text": [
      "4.0\n",
      "5.0\n",
      "2.0\n",
      " The total money spent daily on food, travel and others is $ 11.0\n",
      " The average daily money spend on food, travel and others is $ 3.6666666666666665\n",
      "01 Nov 25\n",
      "GOOD: You are within your daily budget.\n",
      "---------spending summary-----------\n",
      " Name: bas\n",
      " Daily Budget: $12.0\n",
      " Expenses: $4.0, $5.0, $2.0\n",
      " Total amount spent: $11.0\n",
      " Daily Average: $3.6666666666666665\n",
      " Time and Date: 01 Nov 25\n"
     ]
    },
    {
     "name": "stdin",
     "output_type": "stream",
     "text": [
      "\n",
      "World you like to calculate your weekly average? (yes/no):  yes\n",
      "How many days have you tracked?  3\n",
      "Enter the total amount spent over those days ($):  100\n"
     ]
    },
    {
     "name": "stdout",
     "output_type": "stream",
     "text": [
      "n\\Your average daily spending over 3 days is: $33.33\n"
     ]
    }
   ],
   "source": [
    "#CLASS ACTIVITY\n",
    "from datetime import datetime\n",
    "username = input(\"Enter your name\")\n",
    "print (username)\n",
    "\n",
    "daily_budget = float(input(\"Enter the  daily budget in $\"))\n",
    "print(daily_budget)\n",
    "\n",
    "food_fee = float(input(\"Enter the  amount spend on food daily\"))\n",
    "travel_fee= float(input(\"Enter the  amount spend on transportation daily\"))\n",
    "others_fee = float(input(\"Enter the  amount spend on other miscellenous daily\"))\n",
    "print(food_fee)\n",
    "print(travel_fee)\n",
    "print(others_fee)\n",
    "\n",
    "totalspent = food_fee + travel_fee + others_fee\n",
    "print(f\" The total money spent daily on food, travel and others is $\",totalspent)\n",
    "\n",
    "average = float(totalspent/3)\n",
    "print(f\" The average daily money spend on food, travel and others is $\",average)\n",
    "\n",
    "curr_time=datetime.now().strftime('%d %b %y')\n",
    "print(curr_time)\n",
    "\n",
    "#print(f\" Date: {datetime.now().strftime('%d %b %y')}\")\n",
    "\n",
    "#logic\n",
    "if totalspent > daily_budget:\n",
    "    print(\"WARMING: You have exceed your daily budget!\")\n",
    "elif totalspent < daily_budget:\n",
    "     print(\"GOOD: You are within your daily budget.\")\n",
    "else: \n",
    "    print (\"You have spent your total budget for the day, BYE!\")\n",
    "\n",
    "#Printing the summary\n",
    "print (\"---------spending summary-----------\")\n",
    "print (f\" Name: {username}\")\n",
    "print (f\" Daily Budget: ${daily_budget}\")\n",
    "print (f\" Expenses: ${food_fee}, ${travel_fee}, ${others_fee}\")\n",
    "print (f\" Total amount spent: ${totalspent}\")\n",
    "print (f\" Daily Average: ${average}\")\n",
    "print (f\" Time and Date: {curr_time}\")\n",
    "\n",
    "#Days Tracked\n",
    "track_days = input(\"\\nWorld you like to calculate your weekly average? (yes/no): \").strip().lower()\n",
    "if track_days ==\"yes\":\n",
    "    num_days = int(input(\"How many days have you tracked? \"))\n",
    "    weekly_total = float(input(\"Enter the total amount spent over those days ($): \"))\n",
    "    weekly_avg = weekly_total / num_days\n",
    "    print(f\"\\nYour average daily spending over {num_days} days is: ${weekly_avg:.2f}\")\n"
   ]
  },
  {
   "cell_type": "code",
   "execution_count": null,
   "id": "8e5d83bc-e05c-4fad-9ded-dafbb7ad95d9",
   "metadata": {},
   "outputs": [],
   "source": []
  }
 ],
 "metadata": {
  "kernelspec": {
   "display_name": "Python [conda env:base] *",
   "language": "python",
   "name": "conda-base-py"
  },
  "language_info": {
   "codemirror_mode": {
    "name": "ipython",
    "version": 3
   },
   "file_extension": ".py",
   "mimetype": "text/x-python",
   "name": "python",
   "nbconvert_exporter": "python",
   "pygments_lexer": "ipython3",
   "version": "3.13.5"
  }
 },
 "nbformat": 4,
 "nbformat_minor": 5
}
