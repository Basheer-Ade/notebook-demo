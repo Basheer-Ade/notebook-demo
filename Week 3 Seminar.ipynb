{
 "cells": [
  {
   "cell_type": "code",
   "execution_count": null,
   "id": "5abaf0b5-fd87-40c5-8814-2cabac8a8442",
   "metadata": {},
   "outputs": [],
   "source": []
  },
  {
   "cell_type": "code",
   "execution_count": 1,
   "id": "2f013242-36e7-415a-816c-6c3a51129288",
   "metadata": {},
   "outputs": [
    {
     "name": "stdout",
     "output_type": "stream",
     "text": [
      "0\n",
      "2\n",
      "4\n",
      "6\n",
      "8\n",
      "10\n",
      "12\n",
      "14\n",
      "16\n",
      "18\n"
     ]
    }
   ],
   "source": [
    "for x in range(10):\n",
    "    print (x*2)"
   ]
  },
  {
   "cell_type": "code",
   "execution_count": 2,
   "id": "33f5a302-860b-45db-b7d2-9e934089b7bd",
   "metadata": {},
   "outputs": [
    {
     "name": "stdout",
     "output_type": "stream",
     "text": [
      "1 Odd\n",
      "2 Even\n",
      "3 Odd\n",
      "4 Even\n",
      "5 Odd\n",
      "6 Even\n",
      "7 Odd\n",
      "8 Even\n",
      "9 Odd\n",
      "10 Even\n"
     ]
    }
   ],
   "source": [
    "for x in range(1,11):\n",
    "    if x%2 == 0:\n",
    "        print (x, \"Even\")\n",
    "    else:\n",
    "        print (x, \"Odd\")"
   ]
  },
  {
   "cell_type": "code",
   "execution_count": 6,
   "id": "16fcb1b7-254f-44e8-ab03-3c59e45d16e1",
   "metadata": {},
   "outputs": [
    {
     "name": "stdout",
     "output_type": "stream",
     "text": [
      "This is after list comprehension\n",
      "[0, 2, 4, 6, 8, 10, 12, 14, 16, 18, 20]\n",
      "This is after list comprehension\n",
      "[0, 2, 4, 6, 8, 10, 12, 14, 16, 18, 20]\n"
     ]
    }
   ],
   "source": [
    "'''\n",
    "    for x in range(1,11):\n",
    "    if x%2 == 0:\n",
    "        print (x, \"Even\")\n",
    "    else:\n",
    "        print (x, \"Odd\")\n",
    "'''\n",
    "print(\"This is after list comprehension\")\n",
    "l2 =[]\n",
    "for x in range (11):\n",
    "    x=x*2\n",
    "    l2.append(x)\n",
    "print(l2)\n",
    "print(\"This is after list comprehension\")    \n",
    "\n",
    "#list comprehension\n",
    "l1 = [x*2 for x in range(11)] #EFIIIIC\n",
    "print(l1)"
   ]
  },
  {
   "cell_type": "code",
   "execution_count": 9,
   "id": "fbfb2f36-8f97-4421-87d5-9b88c18d8718",
   "metadata": {},
   "outputs": [
    {
     "name": "stdout",
     "output_type": "stream",
     "text": [
      "[0, 1, 4, 9, 16, 25, 36, 49, 64, 81, 100]\n",
      "using for loop\n",
      "[0, 1, 4, 9, 16, 25, 36, 49, 64, 81, 100]\n"
     ]
    }
   ],
   "source": [
    "#square of number 0 - 10\n",
    "l3 = [x**2 for x in range(11)] #EFIIIIC\n",
    "print(l3)\n",
    "\n",
    "l3 =[]\n",
    "for x in range (11):\n",
    "    x=x**2\n",
    "    l3.append(x)\n",
    "print (\"using for loop\")\n",
    "print (l3)\n"
   ]
  },
  {
   "cell_type": "code",
   "execution_count": 11,
   "id": "ab7c42c9-363c-41c6-8b11-fc872090eca2",
   "metadata": {},
   "outputs": [
    {
     "name": "stdout",
     "output_type": "stream",
     "text": [
      "Even Values\n",
      "[0, 4, 16, 36, 64, 100]\n",
      "Odd Values\n",
      "[1, 9, 25, 49, 81]\n"
     ]
    }
   ],
   "source": [
    "#print the odd and even values from the list\n",
    "l5 = [x**2 for x in range(11) if x%2 == 0] #EFIIIIC\n",
    "print(\"Even Values\")\n",
    "print(l5)\n",
    "\n",
    "l5 = [x**2 for x in range(11) if x%2 == 1] #EFIIIIC\n",
    "print(\"Odd Values\")\n",
    "print(l5)"
   ]
  },
  {
   "cell_type": "code",
   "execution_count": 12,
   "id": "bd7ec9b7-10a7-46d2-9b8e-22142c7353e1",
   "metadata": {},
   "outputs": [
    {
     "name": "stdout",
     "output_type": "stream",
     "text": [
      "B\n",
      "a\n",
      "Found a n\n"
     ]
    }
   ],
   "source": [
    "#Using BREAK in control structure\n",
    "for i in \"Banana\":\n",
    "    if i==\"n\":\n",
    "        print (\"Found a n\")\n",
    "        break\n",
    "    else:\n",
    "        print (i)\n"
   ]
  },
  {
   "cell_type": "code",
   "execution_count": 17,
   "id": "c7e76a86-2ab3-4c27-af13-8e5f5de4a01b",
   "metadata": {},
   "outputs": [
    {
     "name": "stdout",
     "output_type": "stream",
     "text": [
      "B\n",
      "a\n",
      "Found a n\n",
      "a\n",
      "Found a n\n",
      "a\n"
     ]
    }
   ],
   "source": [
    "#Using CONTINUE in control structure\n",
    "for i in \"Banana\":\n",
    "    if i==\"n\":\n",
    "        print (\"Found a n\")\n",
    "        continue\n",
    "        print(\"I am still here\")\n",
    "    else:\n",
    "        print (i)"
   ]
  },
  {
   "cell_type": "code",
   "execution_count": 18,
   "id": "db37a953-ab4e-40e2-93ab-353e9c8df89d",
   "metadata": {},
   "outputs": [
    {
     "name": "stdout",
     "output_type": "stream",
     "text": [
      "{'name': 'James Bond', 'age': 65, 'Hero': 'Daniel Craig', 'Salary': 500000}\n"
     ]
    }
   ],
   "source": [
    "#Dictionary\n",
    "dict1 = {\"name\":\"James Bond\",\"age\":65, \"Hero\":\"Daniel Craig\", \"Salary\":500000}\n",
    "print(dict1)\n"
   ]
  },
  {
   "cell_type": "code",
   "execution_count": 19,
   "id": "18e1dd28-39f9-46fc-b58c-1de1bc8c4abe",
   "metadata": {},
   "outputs": [
    {
     "name": "stdout",
     "output_type": "stream",
     "text": [
      "James Bond\n"
     ]
    }
   ],
   "source": [
    "print(dict1.get(\"name\"))"
   ]
  },
  {
   "cell_type": "code",
   "execution_count": 22,
   "id": "b21c81ab-6c42-4479-a044-5b2109812ee1",
   "metadata": {},
   "outputs": [
    {
     "name": "stdout",
     "output_type": "stream",
     "text": [
      "500000\n"
     ]
    }
   ],
   "source": [
    "print(dict1[\"Salary\"])"
   ]
  },
  {
   "cell_type": "code",
   "execution_count": 23,
   "id": "7463f22e-96d8-4797-ab96-b11b186ff426",
   "metadata": {},
   "outputs": [
    {
     "name": "stdout",
     "output_type": "stream",
     "text": [
      "0 --- name\n",
      "1 --- age\n",
      "2 --- Hero\n",
      "3 --- Salary\n"
     ]
    }
   ],
   "source": [
    "#Using ENUMERATE in dictionary\n",
    "for k,v in enumerate(dict1):\n",
    "    print (k, \"---\", v)"
   ]
  },
  {
   "cell_type": "code",
   "execution_count": 25,
   "id": "2b7cbb6f-3d22-41f5-8f6a-ac0aee3023df",
   "metadata": {},
   "outputs": [
    {
     "name": "stdout",
     "output_type": "stream",
     "text": [
      "0 --- ('name', 'James Bond')\n",
      "1 --- ('age', 65)\n",
      "2 --- ('Hero', 'Daniel Craig')\n",
      "3 --- ('Salary', 500000)\n",
      "---------\n",
      "name --- James Bond\n",
      "age --- 65\n",
      "Hero --- Daniel Craig\n",
      "Salary --- 500000\n"
     ]
    }
   ],
   "source": [
    "for k,v in enumerate(dict1.items()):\n",
    "    print (k, \"---\", v)\n",
    "\n",
    "print(\"---------\")\n",
    "\n",
    "for k,v in dict1.items():\n",
    "    print (k, \"---\", v)"
   ]
  },
  {
   "cell_type": "code",
   "execution_count": 28,
   "id": "7f455ffc-797d-4f49-a0c5-9d6cafaa6366",
   "metadata": {},
   "outputs": [
    {
     "name": "stdout",
     "output_type": "stream",
     "text": [
      "{1, 2, 3}\n",
      "{3, 4, 5, 6}\n"
     ]
    }
   ],
   "source": [
    "#SET\n",
    "s1 ={1,2,3,3}\n",
    "print (s1)\n",
    "\n",
    "s2 ={3,4,5,6}\n",
    "print (s2)\n"
   ]
  },
  {
   "cell_type": "code",
   "execution_count": 29,
   "id": "85f9f675-cff1-434f-8e71-12438ba29ae0",
   "metadata": {},
   "outputs": [
    {
     "name": "stdout",
     "output_type": "stream",
     "text": [
      "{1, 2, 3, 4, 5, 6}\n"
     ]
    }
   ],
   "source": [
    "print (s1 | s2) #union"
   ]
  },
  {
   "cell_type": "code",
   "execution_count": 30,
   "id": "a348098d-7afe-4456-92d6-622ac2812adb",
   "metadata": {},
   "outputs": [
    {
     "name": "stdout",
     "output_type": "stream",
     "text": [
      "{3}\n"
     ]
    }
   ],
   "source": [
    "print (s1 & s2) #interset"
   ]
  },
  {
   "cell_type": "code",
   "execution_count": 31,
   "id": "08cb87eb-9b6a-4c7f-ad8d-35fde2219712",
   "metadata": {},
   "outputs": [
    {
     "name": "stdout",
     "output_type": "stream",
     "text": [
      "{1, 2, 3}\n",
      "{1, 2, 3}\n",
      "{1, 2}\n",
      "{4, 5, 6}\n"
     ]
    }
   ],
   "source": [
    "print (s1)\n",
    "print (s1)\n",
    "print (s1 - s2)\n",
    "print (s2 - s1)"
   ]
  },
  {
   "cell_type": "code",
   "execution_count": 34,
   "id": "a6381b3a-3490-4d6f-ba71-f01548b55718",
   "metadata": {},
   "outputs": [
    {
     "name": "stdout",
     "output_type": "stream",
     "text": [
      "{8, 1, 2, 3}\n",
      "{8, 1, 2, 3}\n",
      "{8, 1, 3}\n"
     ]
    }
   ],
   "source": [
    "print (s1)\n",
    "s1.add(8)\n",
    "print(s1)\n",
    "s1.remove(2)\n",
    "print(s1)"
   ]
  },
  {
   "cell_type": "code",
   "execution_count": 35,
   "id": "fc03fc03-377c-4211-bbc5-27e58f3db515",
   "metadata": {},
   "outputs": [
    {
     "name": "stdout",
     "output_type": "stream",
     "text": [
      "(1, 2, 3, 4)\n"
     ]
    }
   ],
   "source": [
    "t = (1,2,3,4)\n",
    "print(t)\n"
   ]
  },
  {
   "cell_type": "code",
   "execution_count": 36,
   "id": "a2ece200-a273-4bcb-a3a5-cddec6754ecd",
   "metadata": {},
   "outputs": [
    {
     "ename": "AttributeError",
     "evalue": "'tuple' object has no attribute 'add'",
     "output_type": "error",
     "traceback": [
      "\u001b[1;31m---------------------------------------------------------------------------\u001b[0m",
      "\u001b[1;31mAttributeError\u001b[0m                            Traceback (most recent call last)",
      "Cell \u001b[1;32mIn[36], line 1\u001b[0m\n\u001b[1;32m----> 1\u001b[0m t\u001b[38;5;241m.\u001b[39madd(\u001b[38;5;241m7\u001b[39m)\n\u001b[0;32m      2\u001b[0m \u001b[38;5;28mprint\u001b[39m(t)\n",
      "\u001b[1;31mAttributeError\u001b[0m: 'tuple' object has no attribute 'add'"
     ]
    }
   ],
   "source": [
    "t.add(7)\n",
    "print(t)"
   ]
  },
  {
   "cell_type": "code",
   "execution_count": null,
   "id": "1e76d0be-e803-4297-8839-ab5ab0c704eb",
   "metadata": {},
   "outputs": [],
   "source": []
  }
 ],
 "metadata": {
  "kernelspec": {
   "display_name": "Python [conda env:base] *",
   "language": "python",
   "name": "conda-base-py"
  },
  "language_info": {
   "codemirror_mode": {
    "name": "ipython",
    "version": 3
   },
   "file_extension": ".py",
   "mimetype": "text/x-python",
   "name": "python",
   "nbconvert_exporter": "python",
   "pygments_lexer": "ipython3",
   "version": "3.13.5"
  }
 },
 "nbformat": 4,
 "nbformat_minor": 5
}
