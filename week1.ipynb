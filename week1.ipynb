{
 "cells": [
  {
   "cell_type": "code",
   "execution_count": null,
   "id": "0fca7c67-40a6-4cb2-baa8-5a30039906b5",
   "metadata": {},
   "outputs": [
    {
     "name": "stdout",
     "output_type": "stream",
     "text": [
      "THIS IS WEEK 1 CLASS ACTIVITY\n"
     ]
    },
    {
     "name": "stdin",
     "output_type": "stream",
     "text": [
      "Please enter your username Bashir Mohammed\n"
     ]
    }
   ],
   "source": [
    "# print (\"THIS IS WEEK 1 CLASS ACTIVITY\")\n",
    "\n",
    "\n",
    "username = input(\"Please enter your username\")\n",
    "\n",
    "daily_budget = float(input(\"Enter your daily budget for the day\"))\n",
    "\n",
    "print (\"Enter the amount you spend on each of the three categories for the day\")\n",
    "\n",
    "expense1 = float(input(\"Record the amount you spend on food\"))\n",
    "expense2 = float(input(\"Record the amount you spend on traveling\"))\n",
    "expense3 = float(input(\"Record the amount you spend on others\"))\n",
    "\n",
    "Total = float(expense1 + expense2 + expense3)\n",
    "Average = float(Total/3)\n",
    "\n",
    "print(f\" the total daily expenses for today is {Total}\")\n",
    "print(f\" the average daily expenses for today is {Average}\")\n",
    "\n",
    "if Total >= daily_budget:\n",
    "    print(\"you have exceed your daily limit\")\n",
    "\n",
    "else:\n",
    "    print(\"you have not spend more than the daily budget\")\n",
    "\n",
    "\n",
    "\n",
    "\n",
    "\n",
    "            \n"
   ]
  },
  {
   "cell_type": "code",
   "execution_count": null,
   "id": "442f7154-a92e-4e78-94ef-4cc0f896a072",
   "metadata": {},
   "outputs": [],
   "source": []
  },
  {
   "cell_type": "code",
   "execution_count": null,
   "id": "260783ca-5229-44bd-8537-7f91e2296640",
   "metadata": {},
   "outputs": [],
   "source": []
  }
 ],
 "metadata": {
  "kernelspec": {
   "display_name": "Python [conda env:base] *",
   "language": "python",
   "name": "conda-base-py"
  },
  "language_info": {
   "codemirror_mode": {
    "name": "ipython",
    "version": 3
   },
   "file_extension": ".py",
   "mimetype": "text/x-python",
   "name": "python",
   "nbconvert_exporter": "python",
   "pygments_lexer": "ipython3",
   "version": "3.13.5"
  }
 },
 "nbformat": 4,
 "nbformat_minor": 5
}
