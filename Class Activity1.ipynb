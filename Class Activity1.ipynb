{
 "cells": [
  {
   "cell_type": "code",
   "execution_count": 5,
   "id": "fc6e5e62-47c5-43b6-ae1c-ed6451bc003e",
   "metadata": {},
   "outputs": [
    {
     "name": "stdin",
     "output_type": "stream",
     "text": [
      "Enter your name bash\n"
     ]
    },
    {
     "name": "stdout",
     "output_type": "stream",
     "text": [
      "bash\n"
     ]
    },
    {
     "name": "stdin",
     "output_type": "stream",
     "text": [
      "Enter the  daily budget in pound 20\n"
     ]
    },
    {
     "name": "stdout",
     "output_type": "stream",
     "text": [
      "20.0\n"
     ]
    },
    {
     "name": "stdin",
     "output_type": "stream",
     "text": [
      "Enter the  amount spend on food daily 12\n",
      "Enter the  amount spend on transportation daily 5.9\n",
      "Enter the  amount spend on other miscellenous daily 1\n"
     ]
    },
    {
     "name": "stdout",
     "output_type": "stream",
     "text": [
      "12.0\n",
      "5.9\n",
      "1.0\n",
      " The total spent daily on food, travel and others is  {18.9}\n",
      " The average daily money spend on food, travel and others is  {6.3}\n",
      " Date: 31 Oct 25\n"
     ]
    }
   ],
   "source": [
    "#CLASS ACTIVITY\n",
    "from datetime import datetime\n",
    "username = input(\"Enter your name\")\n",
    "print (username)\n",
    "daily_budget = float(input(\"Enter the  daily budget in pound\"))\n",
    "print(daily_budget)\n",
    "\n",
    "food_fee = float(input(\"Enter the  amount spend on food daily\"))\n",
    "travel_fee= float(input(\"Enter the  amount spend on transportation daily\"))\n",
    "others_fee = float(input(\"Enter the  amount spend on other miscellenous daily\"))\n",
    "print(food_fee)\n",
    "print(travel_fee)\n",
    "print(others_fee)\n",
    "\n",
    "totalspent = food_fee + travel_fee + others_fee\n",
    "print(f\" The total spent daily on food, travel and others is \", {totalspent})\n",
    "average = float(totalspent/3)\n",
    "print(f\" The average daily money spend on food, travel and others is \", {average})\n",
    "\n",
    "print(f\" Date: {datetime.now().strftime('%d %b %y')}\")\n",
    "\n",
    "if totalspent > daily_budget:\n",
    "    print(\"WARMING: You have exceed your daily budget\")\n",
    "elif totalspent < daily_budget:\n",
    "     print(\"GOOD: You are within your daily budget\")\n",
    "else: \n",
    "    print (\"You have spent your total budget for the day, BYE\")\n",
    "\n",
    "print (\"---------Spending Summary-----------\")\n",
    "print (f\" Name: {username}\")\n",
    "print (f\" Daily Budget: {daily_budget}\")\n",
    "print (f\" Expenses: {food_fee}, {travel_fee}, {others_fee}\")\n",
    "print (f\" Total amount spent: {totalspent}\")\n",
    "print (f\" Daily Average: {totalspent}\")\n",
    "print (f\" totalspent)\n"
   ]
  },
  {
   "cell_type": "code",
   "execution_count": 8,
   "id": "22c9f48b-333c-4051-98ab-233d801af57b",
   "metadata": {},
   "outputs": [
    {
     "name": "stdout",
     "output_type": "stream",
     "text": [
      "2025\n"
     ]
    }
   ],
   "source": [
    "curr_time=datetime.now().strftime('%d %b %y')\n",
    "print(curr_time)"
   ]
  },
  {
   "cell_type": "code",
   "execution_count": null,
   "id": "8e5d83bc-e05c-4fad-9ded-dafbb7ad95d9",
   "metadata": {},
   "outputs": [],
   "source": []
  }
 ],
 "metadata": {
  "kernelspec": {
   "display_name": "Python [conda env:base] *",
   "language": "python",
   "name": "conda-base-py"
  },
  "language_info": {
   "codemirror_mode": {
    "name": "ipython",
    "version": 3
   },
   "file_extension": ".py",
   "mimetype": "text/x-python",
   "name": "python",
   "nbconvert_exporter": "python",
   "pygments_lexer": "ipython3",
   "version": "3.13.5"
  }
 },
 "nbformat": 4,
 "nbformat_minor": 5
}
