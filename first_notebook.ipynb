{
 "cells": [
  {
   "cell_type": "code",
   "execution_count": 1,
   "id": "30292a29-04bc-4e99-a5ed-37d1004f2624",
   "metadata": {},
   "outputs": [
    {
     "name": "stdout",
     "output_type": "stream",
     "text": [
      "Hello World\n"
     ]
    }
   ],
   "source": [
    "print (\"Hello World\")"
   ]
  },
  {
   "cell_type": "code",
   "execution_count": 2,
   "id": "e8ea4565-856e-4ff3-a398-7276617703a6",
   "metadata": {},
   "outputs": [
    {
     "name": "stdout",
     "output_type": "stream",
     "text": [
      "This is week 2 seminar class\n"
     ]
    }
   ],
   "source": [
    "print (\"This is week 2 seminar class\")"
   ]
  },
  {
   "cell_type": "code",
   "execution_count": 3,
   "id": "a483257f-ba25-4cc6-99e7-9a78d59c402a",
   "metadata": {},
   "outputs": [
    {
     "name": "stdin",
     "output_type": "stream",
     "text": [
      "Enter your name, please! Bashir Mohammed\n"
     ]
    },
    {
     "name": "stdout",
     "output_type": "stream",
     "text": [
      "Hi, Bashir Mohammed, Welcome to the first seminar class of PSTP\n"
     ]
    }
   ],
   "source": [
    "name=input(\"Enter your name, please!\")\n",
    "print(f\"Hi, {name}, Welcome to the first seminar class of PSTP\")\n"
   ]
  },
  {
   "cell_type": "code",
   "execution_count": 4,
   "id": "11216f5a-94c2-4314-ba3a-fa1f2f91d5ab",
   "metadata": {},
   "outputs": [
    {
     "name": "stdin",
     "output_type": "stream",
     "text": [
      "Enter your name, please! Bashir Mohammed\n"
     ]
    },
    {
     "name": "stdout",
     "output_type": "stream",
     "text": [
      "Hi, Bashir Mohammed, Welcome to the age calculator\n"
     ]
    },
    {
     "name": "stdin",
     "output_type": "stream",
     "text": [
      "Enter your name, please! 2002\n"
     ]
    },
    {
     "name": "stdout",
     "output_type": "stream",
     "text": [
      "Hi, Bashir Mohammed, you were born in the year 2002\n",
      "Hi, Bashir Mohammed, the year you turn 100 is 2102\n"
     ]
    }
   ],
   "source": [
    "name=input(\"Enter your name, please!\")\n",
    "print(f\"Hi, {name}, Welcome to the age calculator\")\n",
    "\n",
    "year=int(input(\"Enter the year you were born, please!\"))\n",
    "print(f\"Hi, {name}, you were born in the year {year}\")\n",
    "\n",
    "print(f\"Hi, {name}, the year you turn 100 is {year + 100}\")\n"
   ]
  },
  {
   "cell_type": "code",
   "execution_count": null,
   "id": "8fb22da8-51bf-46e1-bf59-dfed4d6b7ca6",
   "metadata": {},
   "outputs": [],
   "source": []
  },
  {
   "cell_type": "code",
   "execution_count": null,
   "id": "ca2c87bf-f383-4c01-bc19-002efac6eccf",
   "metadata": {},
   "outputs": [],
   "source": []
  },
  {
   "cell_type": "code",
   "execution_count": null,
   "id": "3dfc132b-8987-4822-ab9c-2008c5715a1f",
   "metadata": {},
   "outputs": [],
   "source": []
  }
 ],
 "metadata": {
  "kernelspec": {
   "display_name": "Python [conda env:base] *",
   "language": "python",
   "name": "conda-base-py"
  },
  "language_info": {
   "codemirror_mode": {
    "name": "ipython",
    "version": 3
   },
   "file_extension": ".py",
   "mimetype": "text/x-python",
   "name": "python",
   "nbconvert_exporter": "python",
   "pygments_lexer": "ipython3",
   "version": "3.13.5"
  }
 },
 "nbformat": 4,
 "nbformat_minor": 5
}
